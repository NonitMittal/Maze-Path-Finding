{
 "cells": [
  {
   "cell_type": "code",
   "execution_count": 1,
   "metadata": {},
   "outputs": [],
   "source": [
    "from pyamaze import maze, agent, COLOR, textLabel\n",
    "from timeit import timeit\n",
    "from collections import deque"
   ]
  },
  {
   "cell_type": "code",
   "execution_count": 2,
   "metadata": {},
   "outputs": [],
   "source": [
    "def BFS(m, start=None):\n",
    "    if start is None:\n",
    "        start = (m.rows, m.cols)\n",
    "    frontier = deque()\n",
    "    frontier.append(start)\n",
    "    bfsPath = {}\n",
    "    explored = [start]\n",
    "    bSearch = []\n",
    "\n",
    "    while len(frontier) > 0:\n",
    "        currCell = frontier.popleft()\n",
    "        if currCell == m._goal:\n",
    "            break\n",
    "        for d in 'ESNW':\n",
    "            if m.maze_map[currCell][d] == True:\n",
    "                if d == 'E':\n",
    "                    childCell = (currCell[0], currCell[1]+1)\n",
    "                elif d == 'W':\n",
    "                    childCell = (currCell[0], currCell[1]-1)\n",
    "                elif d == 'S':\n",
    "                    childCell = (currCell[0]+1, currCell[1])\n",
    "                elif d == 'N':\n",
    "                    childCell = (currCell[0]-1, currCell[1])\n",
    "                if childCell in explored:\n",
    "                    continue\n",
    "                frontier.append(childCell)\n",
    "                explored.append(childCell)\n",
    "                bfsPath[childCell] = currCell\n",
    "                bSearch.append(childCell)\n",
    "    # print(f'{bfsPath}')\n",
    "    fwdPath = {}\n",
    "    cell = m._goal\n",
    "    while cell != (m.rows, m.cols):\n",
    "        fwdPath[bfsPath[cell]] = cell\n",
    "        cell = bfsPath[cell]\n",
    "    return bSearch, bfsPath, fwdPath"
   ]
  },
  {
   "cell_type": "code",
   "execution_count": 3,
   "metadata": {},
   "outputs": [],
   "source": [
    "m = maze(20, 30)\n",
    "\n",
    "# Maze with only one path to reach goal\n",
    "m.CreateMaze(loadMaze='Maze_1_singlePath.csv', theme=\"light\")\n",
    "\n",
    "# Maze with multiple paths to reach goal\n",
    "# m.CreateMaze(loadMaze='Maze_1_mulptiplePaths.csv', theme=\"light\")\n",
    "\n",
    "# Maze with only one path to reach goal @(1,30)\n",
    "# m.CreateMaze(1, 30, loadMaze='Maze_1_singlePath.csv', theme=\"light\")\n",
    "\n",
    "# Maze with multiple paths to reach goal @(1,30)\n",
    "# m.CreateMaze(1, 30, loadMaze='Maze_1_mulptiplePaths.csv', theme=\"light\")\n",
    "\n",
    "bSearch, bfsPath, fwdBFSPath = BFS(m)\n",
    "\n",
    "textLabel(m, 'BFS Path Length', len(fwdBFSPath)+1)\n",
    "textLabel(m, 'BFS Search Length', len(bSearch)+1)\n",
    "\n",
    "a = agent(m, footprints=True, color=COLOR.yellow,\n",
    "          shape='square', filled=True)\n",
    "b = agent(m, footprints=True, color=COLOR.red,\n",
    "          shape='square', filled=False)\n",
    "c = agent(m,1,1, footprints=True, color=COLOR.cyan,\n",
    "          shape='square', filled=True, goal=(m.rows, m.cols))\n",
    "\n",
    "# c = agent(m, 1, 30, footprints=True, color=COLOR.cyan,\n",
    "#           shape='square', filled=True, goal=(m.rows, m.cols))\n",
    "\n",
    "m.tracePath({a: bSearch}, delay=50)\n",
    "m.tracePath({c: bfsPath}, delay=50)\n",
    "m.tracePath({b: fwdBFSPath}, delay=50)\n",
    "\n",
    "t2 = timeit(stmt='BFS(m)', number=1000, globals=globals())\n",
    "textLabel(m, 'BFS Time', t2)\n",
    "\n",
    "m.run()\n"
   ]
  },
  {
   "cell_type": "code",
   "execution_count": null,
   "metadata": {},
   "outputs": [],
   "source": []
  }
 ],
 "metadata": {
  "interpreter": {
   "hash": "e320152057eea021e47fe8cc1dfc9f3a6f51f00fb3f1a5070f08ecf7355f06e6"
  },
  "kernelspec": {
   "display_name": "Python 3.9.2 64-bit",
   "language": "python",
   "name": "python3"
  },
  "language_info": {
   "codemirror_mode": {
    "name": "ipython",
    "version": 3
   },
   "file_extension": ".py",
   "mimetype": "text/x-python",
   "name": "python",
   "nbconvert_exporter": "python",
   "pygments_lexer": "ipython3",
   "version": "3.9.2"
  },
  "orig_nbformat": 4
 },
 "nbformat": 4,
 "nbformat_minor": 2
}
