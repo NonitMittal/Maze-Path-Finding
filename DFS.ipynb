{
 "cells": [
  {
   "cell_type": "code",
   "execution_count": 1,
   "metadata": {},
   "outputs": [],
   "source": [
    "from pyamaze import maze, agent, COLOR, textLabel\n",
    "from timeit import timeit"
   ]
  },
  {
   "cell_type": "code",
   "execution_count": 2,
   "metadata": {},
   "outputs": [],
   "source": [
    "def DFS(m, start=None):\n",
    "    if start is None:\n",
    "        start = (m.rows, m.cols)\n",
    "    explored = [start]\n",
    "    frontier = [start]\n",
    "    dfsPath = {}\n",
    "    dSeacrh = []\n",
    "    while len(frontier) > 0:\n",
    "        currCell = frontier.pop()\n",
    "        dSeacrh.append(currCell)\n",
    "        if currCell == m._goal:\n",
    "            break\n",
    "        poss = 0\n",
    "        for d in 'ESNW':\n",
    "            if m.maze_map[currCell][d] == True:\n",
    "                if d == 'E':\n",
    "                    child = (currCell[0], currCell[1]+1)\n",
    "                if d == 'W':\n",
    "                    child = (currCell[0], currCell[1]-1)\n",
    "                if d == 'N':\n",
    "                    child = (currCell[0]-1, currCell[1])\n",
    "                if d == 'S':\n",
    "                    child = (currCell[0]+1, currCell[1])\n",
    "                if child in explored:\n",
    "                    continue\n",
    "                poss += 1\n",
    "                explored.append(child)\n",
    "                frontier.append(child)\n",
    "                dfsPath[child] = currCell\n",
    "        if poss > 1:\n",
    "            m.markCells.append(currCell)\n",
    "    fwdPath = {}\n",
    "    cell = m._goal\n",
    "    while cell != start:\n",
    "        fwdPath[dfsPath[cell]] = cell\n",
    "        cell = dfsPath[cell]\n",
    "    return dSeacrh, dfsPath, fwdPath\n"
   ]
  },
  {
   "cell_type": "code",
   "execution_count": 3,
   "metadata": {},
   "outputs": [],
   "source": [
    "m = maze(20, 30)\n",
    "\n",
    "# Maze with only one path to reach goal\n",
    "# m.CreateMaze(loadMaze='Maze_1_singlePath.csv', theme=\"light\")\n",
    "\n",
    "# Maze with multiple paths to reach goal\n",
    "# m.CreateMaze(loadMaze='Maze_1_mulptiplePaths.csv', theme=\"light\")          \n",
    "\n",
    "# Maze with only one path to reach goal @(1,30)\n",
    "# m.CreateMaze(1, 30, loadMaze='Maze_1_singlePath.csv', theme=\"light\")     \n",
    " \n",
    "# Maze with multiple paths to reach goal @(1,30)\n",
    "m.CreateMaze(1, 30, loadMaze='Maze_1_mulptiplePaths.csv', theme=\"light\")   \n",
    "\n",
    "bSearch, bfsPath, fwdDFSPath = DFS(m)\n",
    "\n",
    "textLabel(m, 'DFS Path Length', len(fwdDFSPath)+1)\n",
    "textLabel(m, 'DFS Search Length', len(bSearch)+1)\n",
    "\n",
    "a = agent(m, footprints=True, color=COLOR.yellow,\n",
    "          shape='square', filled=True)\n",
    "b = agent(m, footprints=True, color=COLOR.red,\n",
    "          shape='square', filled=False)\n",
    "# c = agent(m, 1, 1, footprints=True, color=COLOR.cyan,\n",
    "#           shape='square', filled=True, goal=(m.rows, m.cols))\n",
    "c = agent(m, 1, 30, footprints=True, color=COLOR.cyan,\n",
    "          shape='square', filled=True, goal=(m.rows, m.cols))\n",
    "\n",
    "m.tracePath({a: bSearch}, delay=50)\n",
    "m.tracePath({c: bfsPath}, delay=50)\n",
    "m.tracePath({b: fwdDFSPath}, delay=50)\n",
    "\n",
    "t2 = timeit(stmt='DFS(m)', number=1000, globals=globals())\n",
    "textLabel(m, 'DFS Time', t2)\n",
    "\n",
    "m.run()"
   ]
  },
  {
   "cell_type": "code",
   "execution_count": null,
   "metadata": {},
   "outputs": [],
   "source": []
  }
 ],
 "metadata": {
  "interpreter": {
   "hash": "e320152057eea021e47fe8cc1dfc9f3a6f51f00fb3f1a5070f08ecf7355f06e6"
  },
  "kernelspec": {
   "display_name": "Python 3.9.2 64-bit",
   "language": "python",
   "name": "python3"
  },
  "language_info": {
   "codemirror_mode": {
    "name": "ipython",
    "version": 3
   },
   "file_extension": ".py",
   "mimetype": "text/x-python",
   "name": "python",
   "nbconvert_exporter": "python",
   "pygments_lexer": "ipython3",
   "version": "3.9.2"
  },
  "orig_nbformat": 4
 },
 "nbformat": 4,
 "nbformat_minor": 2
}
